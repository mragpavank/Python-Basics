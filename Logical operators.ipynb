{
 "cells": [
  {
   "cell_type": "code",
   "execution_count": 1,
   "metadata": {},
   "outputs": [],
   "source": [
    "#Logical operators in python"
   ]
  },
  {
   "cell_type": "code",
   "execution_count": 2,
   "metadata": {},
   "outputs": [
    {
     "name": "stdout",
     "output_type": "stream",
     "text": [
      "Enter the position you have secured in Hackathon2\n",
      "You are eligible for the prize\n"
     ]
    }
   ],
   "source": [
    "b = int(input(\"Enter the position you have secured in Hackathon\"))\n",
    "if b==1 or b==2 or b==3:\n",
    "    print(\"You are eligible for the prize\")\n",
    "else:\n",
    "    print(\"You are not eligible for the prize\")"
   ]
  },
  {
   "cell_type": "code",
   "execution_count": 3,
   "metadata": {},
   "outputs": [
    {
     "name": "stdout",
     "output_type": "stream",
     "text": [
      "Enter the position you have secured in Hackathon6\n",
      "You are not eligible for the prize\n"
     ]
    }
   ],
   "source": [
    "b = int(input(\"Enter the position you have secured in Hackathon\"))\n",
    "if b==1 or b==2 or b==3:\n",
    "    print(\"You are eligible for the prize\")\n",
    "else:\n",
    "    print(\"You are not eligible for the prize\")"
   ]
  }
 ],
 "metadata": {
  "kernelspec": {
   "display_name": "Python 3",
   "language": "python",
   "name": "python3"
  },
  "language_info": {
   "codemirror_mode": {
    "name": "ipython",
    "version": 3
   },
   "file_extension": ".py",
   "mimetype": "text/x-python",
   "name": "python",
   "nbconvert_exporter": "python",
   "pygments_lexer": "ipython3",
   "version": "3.7.9"
  }
 },
 "nbformat": 4,
 "nbformat_minor": 4
}
