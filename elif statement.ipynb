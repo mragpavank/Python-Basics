{
 "cells": [
  {
   "cell_type": "code",
   "execution_count": 1,
   "metadata": {},
   "outputs": [],
   "source": [
    "#elif statement in python "
   ]
  },
  {
   "cell_type": "code",
   "execution_count": 4,
   "metadata": {},
   "outputs": [
    {
     "name": "stdout",
     "output_type": "stream",
     "text": [
      "Enter the score of the student: 50\n",
      "Sorry!!Student is not eligible for any scholarship\n"
     ]
    }
   ],
   "source": [
    "student_score= int(input(\"Enter the score of the student: \"))\n",
    "if student_score>=95:\n",
    "    print(\"Student is eligible for 90% of the scholarship\")\n",
    "elif student_score>=85:\n",
    "    print(\"Student is eligible for 80% of the scholarship\")\n",
    "elif student_score>=75:\n",
    "    print(\"Student is eligible for 70% of the scholarship\")\n",
    "else:\n",
    "    print(\"Sorry!!Student is not eligible for any scholarship\")"
   ]
  }
 ],
 "metadata": {
  "kernelspec": {
   "display_name": "Python 3",
   "language": "python",
   "name": "python3"
  },
  "language_info": {
   "codemirror_mode": {
    "name": "ipython",
    "version": 3
   },
   "file_extension": ".py",
   "mimetype": "text/x-python",
   "name": "python",
   "nbconvert_exporter": "python",
   "pygments_lexer": "ipython3",
   "version": "3.7.9"
  }
 },
 "nbformat": 4,
 "nbformat_minor": 4
}
