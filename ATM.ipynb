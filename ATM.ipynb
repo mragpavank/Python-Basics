{
 "cells": [
  {
   "cell_type": "code",
   "execution_count": 2,
   "metadata": {},
   "outputs": [
    {
     "name": "stdout",
     "output_type": "stream",
     "text": [
      "Enter your 4 digit's pin number: 1214\n",
      "Invalid pin number please try again9874\n",
      "Invalid pin number please try again6789\n",
      "Authentication successfull\n"
     ]
    }
   ],
   "source": [
    "pin = input(\"Enter your 4 digit's pin number: \")\n",
    "while pin!='6789':\n",
    "    pin=input(\"Invalid pin number please try again\")\n",
    "    \n",
    "print(\"Authentication successfull\")"
   ]
  }
 ],
 "metadata": {
  "kernelspec": {
   "display_name": "Python 3 (ipykernel)",
   "language": "python",
   "name": "python3"
  },
  "language_info": {
   "codemirror_mode": {
    "name": "ipython",
    "version": 3
   },
   "file_extension": ".py",
   "mimetype": "text/x-python",
   "name": "python",
   "nbconvert_exporter": "python",
   "pygments_lexer": "ipython3",
   "version": "3.9.13"
  }
 },
 "nbformat": 4,
 "nbformat_minor": 2
}
